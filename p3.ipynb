{
 "cells": [
  {
   "cell_type": "code",
   "execution_count": 227,
   "id": "b297d327",
   "metadata": {},
   "outputs": [],
   "source": [
    "import numpy as np\n",
    "import pandas as pd\n",
    "import matplotlib.pyplot as plt\n",
    "\n",
    "import seaborn as sns\n",
    "sns.set_style('darkgrid')\n",
    "from sklearn.linear_model import LinearRegression\n",
    "from sklearn.model_selection import train_test_split\n"
   ]
  },
  {
   "cell_type": "markdown",
   "id": "301b1403",
   "metadata": {},
   "source": [
    "## (1) Info of Data"
   ]
  },
  {
   "cell_type": "code",
   "execution_count": 228,
   "id": "d2f32c8a",
   "metadata": {
    "scrolled": true
   },
   "outputs": [
    {
     "data": {
      "text/html": [
       "<div>\n",
       "<style scoped>\n",
       "    .dataframe tbody tr th:only-of-type {\n",
       "        vertical-align: middle;\n",
       "    }\n",
       "\n",
       "    .dataframe tbody tr th {\n",
       "        vertical-align: top;\n",
       "    }\n",
       "\n",
       "    .dataframe thead th {\n",
       "        text-align: right;\n",
       "    }\n",
       "</style>\n",
       "<table border=\"1\" class=\"dataframe\">\n",
       "  <thead>\n",
       "    <tr style=\"text-align: right;\">\n",
       "      <th></th>\n",
       "      <th>longitude</th>\n",
       "      <th>latitude</th>\n",
       "      <th>housing_median_age</th>\n",
       "      <th>total_rooms</th>\n",
       "      <th>total_bedrooms</th>\n",
       "      <th>population</th>\n",
       "      <th>households</th>\n",
       "      <th>median_income</th>\n",
       "      <th>median_house_value</th>\n",
       "      <th>ocean_proximity</th>\n",
       "    </tr>\n",
       "  </thead>\n",
       "  <tbody>\n",
       "    <tr>\n",
       "      <th>0</th>\n",
       "      <td>-122.23</td>\n",
       "      <td>37.88</td>\n",
       "      <td>41.0</td>\n",
       "      <td>880.0</td>\n",
       "      <td>129.0</td>\n",
       "      <td>322.0</td>\n",
       "      <td>126.0</td>\n",
       "      <td>8.3252</td>\n",
       "      <td>452600.0</td>\n",
       "      <td>NEAR BAY</td>\n",
       "    </tr>\n",
       "    <tr>\n",
       "      <th>1</th>\n",
       "      <td>-122.22</td>\n",
       "      <td>37.86</td>\n",
       "      <td>21.0</td>\n",
       "      <td>7099.0</td>\n",
       "      <td>1106.0</td>\n",
       "      <td>2401.0</td>\n",
       "      <td>1138.0</td>\n",
       "      <td>8.3014</td>\n",
       "      <td>358500.0</td>\n",
       "      <td>NEAR BAY</td>\n",
       "    </tr>\n",
       "    <tr>\n",
       "      <th>2</th>\n",
       "      <td>-122.24</td>\n",
       "      <td>37.85</td>\n",
       "      <td>52.0</td>\n",
       "      <td>1467.0</td>\n",
       "      <td>190.0</td>\n",
       "      <td>496.0</td>\n",
       "      <td>177.0</td>\n",
       "      <td>7.2574</td>\n",
       "      <td>352100.0</td>\n",
       "      <td>NEAR BAY</td>\n",
       "    </tr>\n",
       "    <tr>\n",
       "      <th>3</th>\n",
       "      <td>-122.25</td>\n",
       "      <td>37.85</td>\n",
       "      <td>52.0</td>\n",
       "      <td>1274.0</td>\n",
       "      <td>235.0</td>\n",
       "      <td>558.0</td>\n",
       "      <td>219.0</td>\n",
       "      <td>5.6431</td>\n",
       "      <td>341300.0</td>\n",
       "      <td>NEAR BAY</td>\n",
       "    </tr>\n",
       "    <tr>\n",
       "      <th>4</th>\n",
       "      <td>-122.25</td>\n",
       "      <td>37.85</td>\n",
       "      <td>52.0</td>\n",
       "      <td>1627.0</td>\n",
       "      <td>280.0</td>\n",
       "      <td>565.0</td>\n",
       "      <td>259.0</td>\n",
       "      <td>3.8462</td>\n",
       "      <td>342200.0</td>\n",
       "      <td>NEAR BAY</td>\n",
       "    </tr>\n",
       "  </tbody>\n",
       "</table>\n",
       "</div>"
      ],
      "text/plain": [
       "   longitude  latitude  housing_median_age  total_rooms  total_bedrooms  \\\n",
       "0    -122.23     37.88                41.0        880.0           129.0   \n",
       "1    -122.22     37.86                21.0       7099.0          1106.0   \n",
       "2    -122.24     37.85                52.0       1467.0           190.0   \n",
       "3    -122.25     37.85                52.0       1274.0           235.0   \n",
       "4    -122.25     37.85                52.0       1627.0           280.0   \n",
       "\n",
       "   population  households  median_income  median_house_value ocean_proximity  \n",
       "0       322.0       126.0         8.3252            452600.0        NEAR BAY  \n",
       "1      2401.0      1138.0         8.3014            358500.0        NEAR BAY  \n",
       "2       496.0       177.0         7.2574            352100.0        NEAR BAY  \n",
       "3       558.0       219.0         5.6431            341300.0        NEAR BAY  \n",
       "4       565.0       259.0         3.8462            342200.0        NEAR BAY  "
      ]
     },
     "execution_count": 228,
     "metadata": {},
     "output_type": "execute_result"
    }
   ],
   "source": [
    "df = pd.read_csv(\"housing.csv\")\n",
    "df.head()"
   ]
  },
  {
   "cell_type": "code",
   "execution_count": 229,
   "id": "db6a6295",
   "metadata": {},
   "outputs": [
    {
     "data": {
      "text/plain": [
       "(20640, 10)"
      ]
     },
     "execution_count": 229,
     "metadata": {},
     "output_type": "execute_result"
    }
   ],
   "source": [
    "df.shape"
   ]
  },
  {
   "cell_type": "markdown",
   "id": "0a9fc633",
   "metadata": {},
   "source": [
    "Above shown the data size: we have 20640 data points and 10 features in the form of column"
   ]
  },
  {
   "cell_type": "code",
   "execution_count": 230,
   "id": "6f54a5aa",
   "metadata": {},
   "outputs": [
    {
     "name": "stdout",
     "output_type": "stream",
     "text": [
      "<class 'pandas.core.frame.DataFrame'>\n",
      "RangeIndex: 20640 entries, 0 to 20639\n",
      "Data columns (total 10 columns):\n",
      " #   Column              Non-Null Count  Dtype  \n",
      "---  ------              --------------  -----  \n",
      " 0   longitude           20640 non-null  float64\n",
      " 1   latitude            20640 non-null  float64\n",
      " 2   housing_median_age  20640 non-null  float64\n",
      " 3   total_rooms         20640 non-null  float64\n",
      " 4   total_bedrooms      20433 non-null  float64\n",
      " 5   population          20640 non-null  float64\n",
      " 6   households          20640 non-null  float64\n",
      " 7   median_income       20640 non-null  float64\n",
      " 8   median_house_value  20640 non-null  float64\n",
      " 9   ocean_proximity     20640 non-null  object \n",
      "dtypes: float64(9), object(1)\n",
      "memory usage: 1.6+ MB\n"
     ]
    }
   ],
   "source": [
    "df.info()"
   ]
  },
  {
   "cell_type": "markdown",
   "id": "139a0c8e",
   "metadata": {},
   "source": [
    "Above shown the information about data set like number of values it contain and data type here all column contain 20640 values except total_bedrooms column which contain 20433 values (it contain null values). All values contain float64 datatypes except ocean_proximity that is object type"
   ]
  },
  {
   "cell_type": "code",
   "execution_count": 231,
   "id": "bc89a37d",
   "metadata": {},
   "outputs": [
    {
     "data": {
      "text/plain": [
       "Index(['longitude', 'latitude', 'housing_median_age', 'total_rooms',\n",
       "       'total_bedrooms', 'population', 'households', 'median_income',\n",
       "       'median_house_value', 'ocean_proximity'],\n",
       "      dtype='object')"
      ]
     },
     "execution_count": 231,
     "metadata": {},
     "output_type": "execute_result"
    }
   ],
   "source": [
    "df.columns"
   ]
  },
  {
   "cell_type": "markdown",
   "id": "bb4a4326",
   "metadata": {},
   "source": [
    "Above shown the different features of our dataset are:\n",
    "\n",
    "Longitude\n",
    "Latitude\n",
    "Median Age of the House\n",
    "Total Rooms in the block\n",
    "Total Bedrooms in the block\n",
    "Population of the block\n",
    "Number of Households\n",
    "Ocean Proximity"
   ]
  },
  {
   "cell_type": "markdown",
   "id": "27485cd7",
   "metadata": {},
   "source": [
    "## (2) Compute the Correlation between each feature and the target median_house_value"
   ]
  },
  {
   "cell_type": "code",
   "execution_count": 232,
   "id": "9d1d2f8e",
   "metadata": {},
   "outputs": [
    {
     "data": {
      "text/plain": [
       "longitude            -0.045967\n",
       "latitude             -0.144160\n",
       "housing_median_age    0.105623\n",
       "total_rooms           0.134153\n",
       "total_bedrooms        0.049686\n",
       "population           -0.024650\n",
       "households            0.065843\n",
       "median_income         0.688075\n",
       "median_house_value    1.000000\n",
       "Name: median_house_value, dtype: float64"
      ]
     },
     "execution_count": 232,
     "metadata": {},
     "output_type": "execute_result"
    }
   ],
   "source": [
    "df.corr()['median_house_value']"
   ]
  },
  {
   "cell_type": "markdown",
   "id": "e800a6d0",
   "metadata": {},
   "source": [
    "Above shown the correlation between each feature and the target median_house_value.\n",
    "And we found out that median_income has the strongest correlation to target median_house_value."
   ]
  },
  {
   "cell_type": "markdown",
   "id": "ea7aa8dd",
   "metadata": {},
   "source": [
    "## (3) Actions to do to prepare the data set for leaning algorithm"
   ]
  },
  {
   "cell_type": "markdown",
   "id": "d87d2915",
   "metadata": {},
   "source": [
    "1. Format data to make it consistent\n",
    "2. Reduce data\n",
    "3. Complete data cleaning\n",
    "4. Create new features out of existing ones"
   ]
  },
  {
   "cell_type": "markdown",
   "id": "9b98c4b0",
   "metadata": {},
   "source": [
    "## (5) Extract the extra three features and prove the correlation"
   ]
  },
  {
   "cell_type": "code",
   "execution_count": 233,
   "id": "e6e15982",
   "metadata": {},
   "outputs": [],
   "source": [
    "df['avgRooms'] = df['total_rooms'] / df['households']\n",
    "df['avgBedrooms'] = df['total_bedrooms'] / df['households']\n",
    "df['pop_per_household'] = df['population'] / df['households']"
   ]
  },
  {
   "cell_type": "markdown",
   "id": "2bf2782d",
   "metadata": {},
   "source": [
    "Above we add three extra features to the data set.\n",
    "Number of Rooms per House\n",
    "Number of Bedrooms per House\n",
    "Number of people per Household"
   ]
  },
  {
   "cell_type": "code",
   "execution_count": 234,
   "id": "d7ace870",
   "metadata": {},
   "outputs": [
    {
     "data": {
      "text/plain": [
       "0.1519482897414577"
      ]
     },
     "execution_count": 234,
     "metadata": {},
     "output_type": "execute_result"
    }
   ],
   "source": [
    "df.median_house_value.corr(df.avgRooms)"
   ]
  },
  {
   "cell_type": "code",
   "execution_count": 235,
   "id": "21c3283d",
   "metadata": {},
   "outputs": [
    {
     "data": {
      "text/plain": [
       "-0.04673948984474207"
      ]
     },
     "execution_count": 235,
     "metadata": {},
     "output_type": "execute_result"
    }
   ],
   "source": [
    "df.median_house_value.corr(df.avgBedrooms)"
   ]
  },
  {
   "cell_type": "code",
   "execution_count": 236,
   "id": "229583e8",
   "metadata": {},
   "outputs": [
    {
     "data": {
      "text/plain": [
       "-0.023737412956134345"
      ]
     },
     "execution_count": 236,
     "metadata": {},
     "output_type": "execute_result"
    }
   ],
   "source": [
    "df.median_house_value.corr(df.pop_per_household)"
   ]
  },
  {
   "cell_type": "markdown",
   "id": "5fc870ff",
   "metadata": {},
   "source": [
    "## (4) Clean amd Filter the Data: (Drop duplicates and fill up null)"
   ]
  },
  {
   "cell_type": "code",
   "execution_count": 237,
   "id": "e2e488f2",
   "metadata": {},
   "outputs": [
    {
     "data": {
      "text/plain": [
       "False"
      ]
     },
     "execution_count": 237,
     "metadata": {},
     "output_type": "execute_result"
    }
   ],
   "source": [
    "df = df.drop_duplicates() \n",
    "df.duplicated().values.any()"
   ]
  },
  {
   "cell_type": "code",
   "execution_count": 238,
   "id": "ff58bbbd",
   "metadata": {},
   "outputs": [
    {
     "data": {
      "text/plain": [
       "longitude             False\n",
       "latitude              False\n",
       "housing_median_age    False\n",
       "total_rooms           False\n",
       "total_bedrooms        False\n",
       "population            False\n",
       "households            False\n",
       "median_income         False\n",
       "median_house_value    False\n",
       "ocean_proximity       False\n",
       "avgRooms              False\n",
       "avgBedrooms           False\n",
       "pop_per_household     False\n",
       "dtype: bool"
      ]
     },
     "execution_count": 238,
     "metadata": {},
     "output_type": "execute_result"
    }
   ],
   "source": [
    "df = df.fillna(method=\"ffill\")\n",
    "pd.isnull(df).any()"
   ]
  },
  {
   "cell_type": "markdown",
   "id": "643cd01d",
   "metadata": {},
   "source": [
    "## Train and Test data split"
   ]
  },
  {
   "cell_type": "code",
   "execution_count": 239,
   "id": "ae4ef673",
   "metadata": {},
   "outputs": [],
   "source": [
    "dum = pd.get_dummies(df.ocean_proximity)"
   ]
  },
  {
   "cell_type": "code",
   "execution_count": 240,
   "id": "4221cf0d",
   "metadata": {},
   "outputs": [
    {
     "data": {
      "text/html": [
       "<div>\n",
       "<style scoped>\n",
       "    .dataframe tbody tr th:only-of-type {\n",
       "        vertical-align: middle;\n",
       "    }\n",
       "\n",
       "    .dataframe tbody tr th {\n",
       "        vertical-align: top;\n",
       "    }\n",
       "\n",
       "    .dataframe thead th {\n",
       "        text-align: right;\n",
       "    }\n",
       "</style>\n",
       "<table border=\"1\" class=\"dataframe\">\n",
       "  <thead>\n",
       "    <tr style=\"text-align: right;\">\n",
       "      <th></th>\n",
       "      <th>longitude</th>\n",
       "      <th>latitude</th>\n",
       "      <th>housing_median_age</th>\n",
       "      <th>total_rooms</th>\n",
       "      <th>total_bedrooms</th>\n",
       "      <th>population</th>\n",
       "      <th>households</th>\n",
       "      <th>median_income</th>\n",
       "      <th>median_house_value</th>\n",
       "      <th>avgRooms</th>\n",
       "      <th>avgBedrooms</th>\n",
       "      <th>pop_per_household</th>\n",
       "      <th>&lt;1H OCEAN</th>\n",
       "      <th>INLAND</th>\n",
       "      <th>NEAR BAY</th>\n",
       "      <th>NEAR OCEAN</th>\n",
       "    </tr>\n",
       "  </thead>\n",
       "  <tbody>\n",
       "    <tr>\n",
       "      <th>0</th>\n",
       "      <td>-122.23</td>\n",
       "      <td>37.88</td>\n",
       "      <td>41.0</td>\n",
       "      <td>880.0</td>\n",
       "      <td>129.0</td>\n",
       "      <td>322.0</td>\n",
       "      <td>126.0</td>\n",
       "      <td>8.3252</td>\n",
       "      <td>452600.0</td>\n",
       "      <td>6.984127</td>\n",
       "      <td>1.023810</td>\n",
       "      <td>2.555556</td>\n",
       "      <td>0</td>\n",
       "      <td>0</td>\n",
       "      <td>1</td>\n",
       "      <td>0</td>\n",
       "    </tr>\n",
       "    <tr>\n",
       "      <th>1</th>\n",
       "      <td>-122.22</td>\n",
       "      <td>37.86</td>\n",
       "      <td>21.0</td>\n",
       "      <td>7099.0</td>\n",
       "      <td>1106.0</td>\n",
       "      <td>2401.0</td>\n",
       "      <td>1138.0</td>\n",
       "      <td>8.3014</td>\n",
       "      <td>358500.0</td>\n",
       "      <td>6.238137</td>\n",
       "      <td>0.971880</td>\n",
       "      <td>2.109842</td>\n",
       "      <td>0</td>\n",
       "      <td>0</td>\n",
       "      <td>1</td>\n",
       "      <td>0</td>\n",
       "    </tr>\n",
       "    <tr>\n",
       "      <th>2</th>\n",
       "      <td>-122.24</td>\n",
       "      <td>37.85</td>\n",
       "      <td>52.0</td>\n",
       "      <td>1467.0</td>\n",
       "      <td>190.0</td>\n",
       "      <td>496.0</td>\n",
       "      <td>177.0</td>\n",
       "      <td>7.2574</td>\n",
       "      <td>352100.0</td>\n",
       "      <td>8.288136</td>\n",
       "      <td>1.073446</td>\n",
       "      <td>2.802260</td>\n",
       "      <td>0</td>\n",
       "      <td>0</td>\n",
       "      <td>1</td>\n",
       "      <td>0</td>\n",
       "    </tr>\n",
       "    <tr>\n",
       "      <th>3</th>\n",
       "      <td>-122.25</td>\n",
       "      <td>37.85</td>\n",
       "      <td>52.0</td>\n",
       "      <td>1274.0</td>\n",
       "      <td>235.0</td>\n",
       "      <td>558.0</td>\n",
       "      <td>219.0</td>\n",
       "      <td>5.6431</td>\n",
       "      <td>341300.0</td>\n",
       "      <td>5.817352</td>\n",
       "      <td>1.073059</td>\n",
       "      <td>2.547945</td>\n",
       "      <td>0</td>\n",
       "      <td>0</td>\n",
       "      <td>1</td>\n",
       "      <td>0</td>\n",
       "    </tr>\n",
       "    <tr>\n",
       "      <th>4</th>\n",
       "      <td>-122.25</td>\n",
       "      <td>37.85</td>\n",
       "      <td>52.0</td>\n",
       "      <td>1627.0</td>\n",
       "      <td>280.0</td>\n",
       "      <td>565.0</td>\n",
       "      <td>259.0</td>\n",
       "      <td>3.8462</td>\n",
       "      <td>342200.0</td>\n",
       "      <td>6.281853</td>\n",
       "      <td>1.081081</td>\n",
       "      <td>2.181467</td>\n",
       "      <td>0</td>\n",
       "      <td>0</td>\n",
       "      <td>1</td>\n",
       "      <td>0</td>\n",
       "    </tr>\n",
       "  </tbody>\n",
       "</table>\n",
       "</div>"
      ],
      "text/plain": [
       "   longitude  latitude  housing_median_age  total_rooms  total_bedrooms  \\\n",
       "0    -122.23     37.88                41.0        880.0           129.0   \n",
       "1    -122.22     37.86                21.0       7099.0          1106.0   \n",
       "2    -122.24     37.85                52.0       1467.0           190.0   \n",
       "3    -122.25     37.85                52.0       1274.0           235.0   \n",
       "4    -122.25     37.85                52.0       1627.0           280.0   \n",
       "\n",
       "   population  households  median_income  median_house_value  avgRooms  \\\n",
       "0       322.0       126.0         8.3252            452600.0  6.984127   \n",
       "1      2401.0      1138.0         8.3014            358500.0  6.238137   \n",
       "2       496.0       177.0         7.2574            352100.0  8.288136   \n",
       "3       558.0       219.0         5.6431            341300.0  5.817352   \n",
       "4       565.0       259.0         3.8462            342200.0  6.281853   \n",
       "\n",
       "   avgBedrooms  pop_per_household  <1H OCEAN  INLAND  NEAR BAY  NEAR OCEAN  \n",
       "0     1.023810           2.555556          0       0         1           0  \n",
       "1     0.971880           2.109842          0       0         1           0  \n",
       "2     1.073446           2.802260          0       0         1           0  \n",
       "3     1.073059           2.547945          0       0         1           0  \n",
       "4     1.081081           2.181467          0       0         1           0  "
      ]
     },
     "execution_count": 240,
     "metadata": {},
     "output_type": "execute_result"
    }
   ],
   "source": [
    "merged_df = pd.concat([df, dum], axis = 'columns')\n",
    "merged_df = merged_df.drop(['ocean_proximity', 'ISLAND'], axis= 'columns')\n",
    "merged_df.head()"
   ]
  },
  {
   "cell_type": "code",
   "execution_count": 241,
   "id": "671ec0c7",
   "metadata": {},
   "outputs": [],
   "source": [
    "prices = merged_df['median_house_value'].values.reshape(-1,1)\n",
    "features = merged_df.drop('median_house_value', axis = 1)"
   ]
  },
  {
   "cell_type": "code",
   "execution_count": 242,
   "id": "a1c42923",
   "metadata": {},
   "outputs": [],
   "source": [
    "x_train, x_test, y_train, y_test = train_test_split(features, prices, test_size = 0.2)"
   ]
  },
  {
   "cell_type": "markdown",
   "id": "ba4a9215",
   "metadata": {},
   "source": [
    "## (6) Linear Regression"
   ]
  },
  {
   "cell_type": "code",
   "execution_count": 243,
   "id": "5c432374",
   "metadata": {},
   "outputs": [
    {
     "data": {
      "text/plain": [
       "LinearRegression()"
      ]
     },
     "execution_count": 243,
     "metadata": {},
     "output_type": "execute_result"
    }
   ],
   "source": [
    "regr = LinearRegression()\n",
    "regr.fit(x_train, y_train)\n"
   ]
  },
  {
   "cell_type": "code",
   "execution_count": 244,
   "id": "ade70c70",
   "metadata": {},
   "outputs": [],
   "source": [
    "my_train_predict = regr.predict(x_train)\n",
    "my_test_predict = regr.predict(x_test)"
   ]
  },
  {
   "cell_type": "code",
   "execution_count": 245,
   "id": "3ca4fa29",
   "metadata": {},
   "outputs": [
    {
     "name": "stdout",
     "output_type": "stream",
     "text": [
      "R square for train: 0.6491784865203749\n"
     ]
    }
   ],
   "source": [
    "r1 = regr.score(x_train, y_train)\n",
    "print(\"R square for train:\", r1)"
   ]
  },
  {
   "cell_type": "code",
   "execution_count": 246,
   "id": "27f33bd9",
   "metadata": {},
   "outputs": [
    {
     "name": "stdout",
     "output_type": "stream",
     "text": [
      "R square for test: 0.6419971579389958\n"
     ]
    }
   ],
   "source": [
    "r2 = regr.score(x_test, y_test)\n",
    "print(\"R square for test:\", r2)"
   ]
  },
  {
   "cell_type": "code",
   "execution_count": 247,
   "id": "d8bb1761",
   "metadata": {},
   "outputs": [
    {
     "name": "stdout",
     "output_type": "stream",
     "text": [
      "RMSE for train: 68038.23990034299\n"
     ]
    }
   ],
   "source": [
    "from sklearn.metrics import mean_squared_error\n",
    "mse = mean_squared_error(y_train, my_train_predict)\n",
    "rmse = np.sqrt(mse)\n",
    "print(\"RMSE for train:\",rmse)"
   ]
  },
  {
   "cell_type": "code",
   "execution_count": 248,
   "id": "fc14849f",
   "metadata": {},
   "outputs": [
    {
     "name": "stdout",
     "output_type": "stream",
     "text": [
      "RMSE for test: 70273.31293041215\n"
     ]
    }
   ],
   "source": [
    "mse2 = mean_squared_error(y_test, my_test_predict)\n",
    "rmse2 = np.sqrt(mse2)\n",
    "print(\"RMSE for test:\",rmse2)"
   ]
  },
  {
   "cell_type": "markdown",
   "id": "860017f3",
   "metadata": {},
   "source": [
    "## (7) Grid Search & Randomized Search"
   ]
  },
  {
   "cell_type": "code",
   "execution_count": 249,
   "id": "e70663f1",
   "metadata": {},
   "outputs": [
    {
     "name": "stdout",
     "output_type": "stream",
     "text": [
      "lambda: 0.02469150343115767\n"
     ]
    }
   ],
   "source": [
    "from scipy.stats import uniform as sp_rand\n",
    "from sklearn.linear_model import Ridge\n",
    "from sklearn.model_selection import RandomizedSearchCV\n",
    "\n",
    "param_grid = {'alpha': sp_rand()}\n",
    "model = Ridge()\n",
    "rsearch = RandomizedSearchCV(estimator=model, param_distributions=param_grid, n_iter=100)\n",
    "rsearch.fit(x_train, y_train)\n",
    "print(\"lambda:\",rsearch.best_estimator_.alpha)"
   ]
  },
  {
   "cell_type": "code",
   "execution_count": 259,
   "id": "5686169e",
   "metadata": {},
   "outputs": [
    {
     "name": "stdout",
     "output_type": "stream",
     "text": [
      "RMSE for randomized test 70273.70387095469\n"
     ]
    }
   ],
   "source": [
    "rr = Ridge(alpha = rsearch.best_estimator_.alpha)\n",
    "result1 = rr.fit(x_train, y_train)\n",
    "r_predict = result1.predict(x_test)\n",
    "print(\"RMSE for randomized test\",np.sqrt(mean_squared_error(y_test, r_predict)))"
   ]
  },
  {
   "cell_type": "code",
   "execution_count": 251,
   "id": "d2353c8f",
   "metadata": {
    "scrolled": true
   },
   "outputs": [
    {
     "name": "stdout",
     "output_type": "stream",
     "text": [
      "GridSearchCV(estimator=Ridge(),\n",
      "             param_grid={'alpha': array([1.e+00, 1.e-01, 1.e-02, 1.e-03, 1.e-04, 0.e+00])})\n",
      "0.4823231384163484\n",
      "0.0001\n"
     ]
    }
   ],
   "source": [
    "# Grid Search for Algorithm Tuning\n",
    "import numpy as np\n",
    "from sklearn import datasets\n",
    "from sklearn.linear_model import Ridge\n",
    "from sklearn.model_selection import GridSearchCV\n",
    "# load the diabetes datasets\n",
    "dataset = datasets.load_diabetes()\n",
    "# prepare a range of alpha values to test\n",
    "alphas = np.array([1,0.1,0.01,0.001,0.0001,0])\n",
    "# create and fit a ridge regression model, testing each alpha\n",
    "model = Ridge()\n",
    "grid = GridSearchCV(estimator=model, param_grid=dict(alpha=alphas))\n",
    "grid.fit(dataset.data, dataset.target)\n",
    "print(grid)\n",
    "# summarize the results of the grid search\n",
    "print(grid.best_score_)\n",
    "print(grid.best_estimator_.alpha)"
   ]
  },
  {
   "cell_type": "code",
   "execution_count": 260,
   "id": "b64a9a9c",
   "metadata": {},
   "outputs": [
    {
     "name": "stdout",
     "output_type": "stream",
     "text": [
      "RMSE for grid test 70273.31445377544\n"
     ]
    }
   ],
   "source": [
    "model = Ridge(alpha = grid.best_estimator_.alpha)\n",
    "result2 = model.fit(x_train, y_train)\n",
    "result_predict = result2.predict(x_test)\n",
    "\n",
    "print(\"RMSE for grid test\",np.sqrt(mean_squared_error(y_test, result_predict)))"
   ]
  },
  {
   "cell_type": "markdown",
   "id": "230af648",
   "metadata": {},
   "source": [
    "From above randomized Search and Grid Search, I found both of those model perform worse than linear regression. It might because that random search will yield high variance during conputing and grid search create subsamples of the data repeatedly."
   ]
  },
  {
   "cell_type": "markdown",
   "id": "1254677b",
   "metadata": {},
   "source": [
    "## (8) DecisionTreeRegressor"
   ]
  },
  {
   "cell_type": "code",
   "execution_count": 253,
   "id": "70aaa63e",
   "metadata": {},
   "outputs": [
    {
     "data": {
      "text/plain": [
       "DecisionTreeRegressor()"
      ]
     },
     "execution_count": 253,
     "metadata": {},
     "output_type": "execute_result"
    }
   ],
   "source": [
    "from sklearn.tree import DecisionTreeRegressor\n",
    "tree_reg = DecisionTreeRegressor()\n",
    "tree_reg.fit(x_train, y_train)"
   ]
  },
  {
   "cell_type": "code",
   "execution_count": 254,
   "id": "385bc335",
   "metadata": {},
   "outputs": [
    {
     "name": "stdout",
     "output_type": "stream",
     "text": [
      "RSME for decision tree 0.0\n"
     ]
    }
   ],
   "source": [
    "pred_tree = tree_reg.predict(x_train)\n",
    "mse_tree = mean_squared_error(y_train, pred_tree)\n",
    "rmse_tree = np.sqrt(mse_tree)\n",
    "print(\"RSME for decision tree\", rmse_tree)"
   ]
  },
  {
   "cell_type": "code",
   "execution_count": 255,
   "id": "19654772",
   "metadata": {},
   "outputs": [
    {
     "name": "stdout",
     "output_type": "stream",
     "text": [
      "RSME for decision tree 71942.86984244449\n"
     ]
    }
   ],
   "source": [
    "pred_tree2 = tree_reg.predict(x_test)\n",
    "mse_tree2 = mean_squared_error(y_test, pred_tree2)\n",
    "rmse_tree2 = np.sqrt(mse_tree2)\n",
    "print(\"RSME for decision tree\", rmse_tree2)"
   ]
  },
  {
   "cell_type": "markdown",
   "id": "11ca531d",
   "metadata": {},
   "source": [
    "From above, I found that DecisionTreeRegressor yield a higher RSME than linear regression, meaning the decision Tree model performs worse than Linear Regression model."
   ]
  }
 ],
 "metadata": {
  "kernelspec": {
   "display_name": "Python 3 (ipykernel)",
   "language": "python",
   "name": "python3"
  },
  "language_info": {
   "codemirror_mode": {
    "name": "ipython",
    "version": 3
   },
   "file_extension": ".py",
   "mimetype": "text/x-python",
   "name": "python",
   "nbconvert_exporter": "python",
   "pygments_lexer": "ipython3",
   "version": "3.9.7"
  }
 },
 "nbformat": 4,
 "nbformat_minor": 5
}
